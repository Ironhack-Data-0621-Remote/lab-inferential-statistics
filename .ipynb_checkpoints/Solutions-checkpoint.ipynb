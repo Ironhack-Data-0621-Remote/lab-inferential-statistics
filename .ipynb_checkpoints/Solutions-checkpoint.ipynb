{
 "cells": [
  {
   "cell_type": "markdown",
   "id": "e00a11f1",
   "metadata": {},
   "source": [
    "# Lab | Inferential statistics"
   ]
  },
  {
   "cell_type": "markdown",
   "id": "2c813f0a",
   "metadata": {},
   "source": [
    "- It is assumed that the mean systolic blood pressure is `μ = 120 mm Hg`. In the Honolulu Heart Study, a sample of `n = 100` people had an average systolic blood pressure of 130.1 mm Hg with a standard deviation of 21.21 mm Hg. "
   ]
  },
  {
   "cell_type": "markdown",
   "id": "120875d3",
   "metadata": {},
   "source": [
    "## 1. Is the group significantly different (with respect to systolic blood pressure!) from the regular population?"
   ]
  },
  {
   "cell_type": "markdown",
   "id": "d26c43d4",
   "metadata": {},
   "source": [
    "### 1.1 Set up the hypothesis test."
   ]
  },
  {
   "cell_type": "markdown",
   "id": "31ad9595-f51a-4c4f-bbba-5b5b11987f96",
   "metadata": {},
   "source": [
    "Honolulu Heart Study:\n",
    "- the average systolic blood pressure is μ = 130.1 mm Hg\n",
    "- standard deviation of 21.21 mm Hg\n",
    "\n",
    "Regular population:\n",
    "- the mean systolic blood pressure is μ = 120 mm Hg"
   ]
  },
  {
   "cell_type": "markdown",
   "id": "62449a84-4caa-4214-901a-cf5dc4020d69",
   "metadata": {},
   "source": [
    "**Research hypothesis (Ho):** the systolic blood pressure from the Honolulu Heart Study group *is* significantly different than from the regular population <br>\n",
    "**Alternate hypothesis (Ha):** the systolic blood pressure from the Honolulu Heart Study group *is not* significantly different than from the regular population "
   ]
  },
  {
   "cell_type": "markdown",
   "id": "17c9988a",
   "metadata": {},
   "source": [
    "### 1.2 Write down all the steps followed for setting up the test."
   ]
  },
  {
   "cell_type": "markdown",
   "id": "db84a396-60b3-4446-892f-34b1d6687475",
   "metadata": {},
   "source": [
    "There are 5 main steps in hypothesis testing:\n",
    "\n",
    "1. State your research hypothesis as a null (Ho) and alternate (Ha) hypothesis.\n",
    "2. Collect data in a way designed to test the hypothesis.\n",
    "3. Perform an appropriate statistical test.\n",
    "4. Decide whether the null hypothesis is supported or refuted.\n",
    "5. Present the findings in your results and discussion section.\n"
   ]
  },
  {
   "cell_type": "markdown",
   "id": "8422a0c4-e8b1-447e-bb35-b2de8f45c54a",
   "metadata": {},
   "source": [
    "**Significance level:** α = 0.05 --> we are willing to tolerate up to 5% of Type-1 errors (rehecting Ho although it is true)\n",
    "\n",
    "**P-value (the probability value)** is the value p of the statistic used to test the null hypothesis. If  p < α then we reject the null hypothesis."
   ]
  },
  {
   "cell_type": "markdown",
   "id": "63df3700",
   "metadata": {},
   "source": [
    "### 1.3 Calculate the test statistic by hand and also code it in Python. It should be 4.76190. We will take a look at how to make decisions based on this calculated value."
   ]
  },
  {
   "cell_type": "markdown",
   "id": "2273d0c8-f22c-4945-b4f8-1d3e776cf0b3",
   "metadata": {},
   "source": [
    "**By hand:**"
   ]
  },
  {
   "cell_type": "markdown",
   "id": "7dc148eb-70cb-4f47-a014-3d627e2910b7",
   "metadata": {},
   "source": [
    "Formula: t = ( x̄ – μ) / (s / √n)\n",
    "\n",
    "- t = test statistic\n",
    "- x̄ = observed mean of the sample\n",
    "- μ = theoretical mean of the population\n",
    "- s = standard deviation of the sample\n",
    "- n = sample size"
   ]
  },
  {
   "cell_type": "markdown",
   "id": "b13b3072-6267-43fb-a2e0-69f185f196c8",
   "metadata": {},
   "source": [
    "Variables:\n",
    "- HHS_mean = 130.1\n",
    "- general_mean = 120\n",
    "- std = 21.21\n",
    "- n = 100\n",
    "\n",
    "t = (HHS_mean - general_mean) / (std / n**0,5)\n",
    "\n",
    "t = (130.1-120) / (21.21/(100**0,5)) <br>\n",
    "t = 10.1 / 21.21/10 <br>\n",
    "t = 10.1 / 2.121 <br>\n",
    "t = 4.76190 <br>"
   ]
  },
  {
   "cell_type": "markdown",
   "id": "ceaaaa46-4b4f-485d-b544-89e9204afac7",
   "metadata": {},
   "source": [
    "**With Python:**"
   ]
  },
  {
   "cell_type": "code",
   "execution_count": 23,
   "id": "eb6fdb00-a3df-42c6-a370-de072d8d7deb",
   "metadata": {},
   "outputs": [
    {
     "name": "stdout",
     "output_type": "stream",
     "text": [
      "4.7619\n"
     ]
    }
   ],
   "source": [
    "# variables\n",
    "HHS_mean = 130.1\n",
    "general_mean = 120\n",
    "std = 21.21\n",
    "n = 100\n",
    "\n",
    "import math\n",
    "\n",
    "t = ((HHS_mean - general_mean)/(std / math.sqrt(n)))\n",
    "print(round(t, 5))"
   ]
  },
  {
   "cell_type": "markdown",
   "id": "4a7564e5",
   "metadata": {},
   "source": [
    "## 2. If you finished the previous question, please go through the code for principal_component_analysis_example provided in the files_for_lab folder ."
   ]
  },
  {
   "cell_type": "markdown",
   "id": "d8e8e287-fd31-4890-889e-b81649348246",
   "metadata": {},
   "source": [
    "Sources: <br>\n",
    "https://www.scribbr.com/statistics/hypothesis-testing/ <br>\n",
    "https://www.section.io/engineering-education/statistical-hypothesis-testing-python-implementation/"
   ]
  }
 ],
 "metadata": {
  "kernelspec": {
   "display_name": "Python 3",
   "language": "python",
   "name": "python3"
  },
  "language_info": {
   "codemirror_mode": {
    "name": "ipython",
    "version": 3
   },
   "file_extension": ".py",
   "mimetype": "text/x-python",
   "name": "python",
   "nbconvert_exporter": "python",
   "pygments_lexer": "ipython3",
   "version": "3.9.6"
  }
 },
 "nbformat": 4,
 "nbformat_minor": 5
}
