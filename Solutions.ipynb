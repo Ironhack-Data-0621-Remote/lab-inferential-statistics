{
 "cells": [
  {
   "cell_type": "markdown",
   "source": [
    "# Lab | Inferential statistics"
   ],
   "metadata": {}
  },
  {
   "cell_type": "markdown",
   "source": [
    "- It is assumed that the mean systolic blood pressure is `μ = 120 mm Hg`. In the Honolulu Heart Study, a sample of `n = 100` people had an average systolic blood pressure of 130.1 mm Hg with a standard deviation of 21.21 mm Hg. "
   ],
   "metadata": {}
  },
  {
   "cell_type": "markdown",
   "source": [
    "## 1. Is the group significantly different (with respect to systolic blood pressure!) from the regular population?"
   ],
   "metadata": {}
  },
  {
   "cell_type": "markdown",
   "source": [
    "### 1.1 Set up the hypothesis test."
   ],
   "metadata": {}
  },
  {
   "cell_type": "markdown",
   "source": [
    "- The null hypothesis is that the mean blood pressure of people in Honolulu is not significantly different from the population mean\n",
    "- The alternate hypothesis is that the blood pressure of people in Honolulu is significantly different\n",
    "- We can use the Z-test to test this hypothesis"
   ],
   "metadata": {}
  },
  {
   "cell_type": "markdown",
   "source": [
    "### 1.2 Write down all the steps followed for setting up the test."
   ],
   "metadata": {}
  },
  {
   "cell_type": "markdown",
   "source": [
    "- H1: µ > 120\n",
    "- H0: µ = 120 "
   ],
   "metadata": {}
  },
  {
   "cell_type": "markdown",
   "source": [
    "### 1.3 Calculate the test statistic by hand and also code it in Python. It should be 4.76190. We will take a look at how to make decisions based on this calculated value."
   ],
   "metadata": {}
  },
  {
   "cell_type": "markdown",
   "source": [
    "- Z = (x̄ – μ) / (σ / √n)\n",
    "- Z = (130.1 - 120) / 21.21 / √n\n",
    "- Z = 10.1 / 21.21/10\n",
    "- Z = 10.1 / 2.121\n",
    "- Z = 4.76190"
   ],
   "metadata": {}
  },
  {
   "cell_type": "code",
   "execution_count": 7,
   "source": [
    "import math\n",
    "\n",
    "M = 130.1  # sample mean\n",
    "mu = 120  # population mean\n",
    "stdev = 21.21 # standard deviation\n",
    "n = 100 # number of samples\n",
    "\n",
    "Z = (M - mu) / (stdev/math.sqrt(n))\n",
    "\n",
    "\n",
    "print(Z)"
   ],
   "outputs": [
    {
     "output_type": "stream",
     "name": "stdout",
     "text": [
      "4.761904761904759\n"
     ]
    }
   ],
   "metadata": {}
  },
  {
   "cell_type": "markdown",
   "source": [
    "## 2. If you finished the previous question, please go through the code for principal_component_analysis_example provided in the files_for_lab folder ."
   ],
   "metadata": {}
  }
 ],
 "metadata": {
  "kernelspec": {
   "name": "python3",
   "display_name": "Python 3.8.8 64-bit ('base': conda)"
  },
  "language_info": {
   "codemirror_mode": {
    "name": "ipython",
    "version": 3
   },
   "file_extension": ".py",
   "mimetype": "text/x-python",
   "name": "python",
   "nbconvert_exporter": "python",
   "pygments_lexer": "ipython3",
   "version": "3.8.8"
  },
  "interpreter": {
   "hash": "f27e873c37e1f1555e60b9534290287a99b02cba69d8f829668ffeb66728ce50"
  }
 },
 "nbformat": 4,
 "nbformat_minor": 5
}