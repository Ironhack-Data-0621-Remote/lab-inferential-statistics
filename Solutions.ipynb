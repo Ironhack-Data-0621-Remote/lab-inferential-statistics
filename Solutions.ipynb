{
 "cells": [
  {
   "cell_type": "markdown",
   "id": "e00a11f1",
   "metadata": {},
   "source": [
    "# Lab | Inferential statistics"
   ]
  },
  {
   "cell_type": "markdown",
   "id": "2c813f0a",
   "metadata": {},
   "source": [
    "- It is assumed that the mean systolic blood pressure is `μ = 120 mm Hg`. In the Honolulu Heart Study, a sample of `n = 100` people had an average systolic blood pressure of 130.1 mm Hg with a standard deviation of 21.21 mm Hg. "
   ]
  },
  {
   "cell_type": "markdown",
   "id": "120875d3",
   "metadata": {},
   "source": [
    "## 1. Is the group significantly different (with respect to systolic blood pressure!) from the regular population?"
   ]
  },
  {
   "cell_type": "markdown",
   "id": "d26c43d4",
   "metadata": {},
   "source": [
    "### 1.1 Set up the hypothesis test."
   ]
  },
  {
   "cell_type": "markdown",
   "id": "b73ebb2e",
   "metadata": {},
   "source": [
    "#### The hypothesis\n",
    "\n",
    "- Null Hypothesis:  The mean systolic blood pressure of the group, a research conduected by Honolulu Heart Study, **does not have significantly different results** from the regular population. \n",
    "\n",
    "\n",
    "- Alternative Hypothesis: The mean systolic blood pressure of the group **has significantly different results** from the regular population. \n"
   ]
  },
  {
   "cell_type": "markdown",
   "id": "17c9988a",
   "metadata": {},
   "source": [
    "### 1.2 Write down all the steps followed for setting up the test."
   ]
  },
  {
   "cell_type": "markdown",
   "id": "98119041",
   "metadata": {},
   "source": [
    "1. Set the Significance Level\n",
    "2. Calculate the Test Statistic and Corresponding P-Value\n",
    "3. Draw a Conclusion\n",
    "\n",
    "- P-value <= significance level (a) => Reject the null hypothesis in favor of your alternative hypothesis. The result is statistically significant.\n",
    "\n",
    "- P-value > significance level (a) => Fail to reject the null hypothesis. The result is not statistically significant."
   ]
  },
  {
   "cell_type": "markdown",
   "id": "63df3700",
   "metadata": {},
   "source": [
    "### 1.3 Calculate the test statistic by hand and also code it in Python. It should be 4.76190. We will take a look at how to make decisions based on this calculated value."
   ]
  },
  {
   "cell_type": "code",
   "execution_count": 24,
   "id": "73ab39e6",
   "metadata": {},
   "outputs": [],
   "source": [
    "all_mean = 120\n",
    "hawaii_mean = 130.1\n",
    "hawaii_std = 21.21\n",
    "n = 100\n",
    "\n",
    "# Set the Significance Level\n",
    "significance_level = 0.05"
   ]
  },
  {
   "cell_type": "code",
   "execution_count": 25,
   "id": "39c6f717",
   "metadata": {},
   "outputs": [
    {
     "data": {
      "text/plain": [
       "4.7619"
      ]
     },
     "execution_count": 25,
     "metadata": {},
     "output_type": "execute_result"
    }
   ],
   "source": [
    "# Calculate the Test Statistic\n",
    "test_statistic = (hawaii_mean - all_mean)/(hawaii_std/(n**0.5))\n",
    "round(test_statistic,5)"
   ]
  },
  {
   "cell_type": "code",
   "execution_count": 26,
   "id": "f3abdf2d",
   "metadata": {},
   "outputs": [],
   "source": [
    "# Calculate Corresponding P-Value\n",
    "\n",
    "p_value = 4.9999"
   ]
  },
  {
   "cell_type": "markdown",
   "id": "6a22ead7",
   "metadata": {},
   "source": [
    "#### Conclusion\n",
    "\n",
    "The p_value(4.9999) is greater than the significance level(4.7619), which means, **it failed to reject the null hypothesis**. \n",
    "\n",
    "The mean systolic blood pressure of the group **does not have significantly different results** from the regular population. "
   ]
  },
  {
   "cell_type": "code",
   "execution_count": null,
   "id": "97f73e20",
   "metadata": {},
   "outputs": [],
   "source": []
  },
  {
   "cell_type": "markdown",
   "id": "4a7564e5",
   "metadata": {},
   "source": [
    "## 2. If you finished the previous question, please go through the code for principal_component_analysis_example provided in the files_for_lab folder ."
   ]
  }
 ],
 "metadata": {
  "kernelspec": {
   "display_name": "Python 3",
   "language": "python",
   "name": "python3"
  },
  "language_info": {
   "codemirror_mode": {
    "name": "ipython",
    "version": 3
   },
   "file_extension": ".py",
   "mimetype": "text/x-python",
   "name": "python",
   "nbconvert_exporter": "python",
   "pygments_lexer": "ipython3",
   "version": "3.8.8"
  }
 },
 "nbformat": 4,
 "nbformat_minor": 5
}
