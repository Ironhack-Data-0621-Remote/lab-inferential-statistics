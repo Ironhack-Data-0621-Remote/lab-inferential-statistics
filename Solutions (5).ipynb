{
 "cells": [
  {
   "cell_type": "markdown",
   "id": "e00a11f1",
   "metadata": {},
   "source": [
    "# Lab | Inferential statistics"
   ]
  },
  {
   "cell_type": "markdown",
   "id": "2c813f0a",
   "metadata": {},
   "source": [
    "- It is assumed that the mean systolic blood pressure is `μ = 120 mm Hg`. In the Honolulu Heart Study, a sample of `n = 100` people had an average systolic blood pressure of 130.1 mm Hg with a standard deviation of 21.21 mm Hg. "
   ]
  },
  {
   "cell_type": "markdown",
   "id": "120875d3",
   "metadata": {},
   "source": [
    "## 1. Is the group significantly different (with respect to systolic blood pressure!) from the regular population?"
   ]
  },
  {
   "cell_type": "markdown",
   "id": "d26c43d4",
   "metadata": {},
   "source": [
    "### 1.1 Set up the hypothesis test."
   ]
  },
  {
   "cell_type": "markdown",
   "id": "0ac74075",
   "metadata": {},
   "source": [
    "H0: μ = 120\n",
    "\n",
    "H1: μ != 120"
   ]
  },
  {
   "cell_type": "markdown",
   "id": "17c9988a",
   "metadata": {},
   "source": [
    "### 1.2 Write down all the steps followed for setting up the test."
   ]
  },
  {
   "cell_type": "markdown",
   "id": "1b493c62",
   "metadata": {},
   "source": [
    "Level of significance = 0.05\n",
    "\n",
    "Calculate the test statistic based on the given information:\n",
    "- If the test statistic falls in the critical region, then we reject the Null Hypothesis\n",
    "- If the test statistic falls in the region between the critical region, we accept the Null Hypothesis ie our assumption about the population to be true."
   ]
  },
  {
   "cell_type": "markdown",
   "id": "63df3700",
   "metadata": {},
   "source": [
    "### 1.3 Calculate the test statistic by hand and also code it in Python. It should be 4.76190. We will take a look at how to make decisions based on this calculated value."
   ]
  },
  {
   "cell_type": "code",
   "execution_count": 1,
   "id": "97f73e20",
   "metadata": {},
   "outputs": [
    {
     "name": "stdout",
     "output_type": "stream",
     "text": [
      "Statistic is:  4.761904761904759\n"
     ]
    }
   ],
   "source": [
    "from statistics import math\n",
    "\n",
    "sample_mean = 130.1\n",
    "pop_mean = 120\n",
    "pop_std = 21.21\n",
    "n = 100\n",
    "statistic = (sample_mean - pop_mean)/(pop_std/math.sqrt(n))\n",
    "print(\"Statistic is: \", statistic)"
   ]
  }
 ],
 "metadata": {
  "kernelspec": {
   "display_name": "Python 3",
   "language": "python",
   "name": "python3"
  },
  "language_info": {
   "codemirror_mode": {
    "name": "ipython",
    "version": 3
   },
   "file_extension": ".py",
   "mimetype": "text/x-python",
   "name": "python",
   "nbconvert_exporter": "python",
   "pygments_lexer": "ipython3",
   "version": "3.8.8"
  }
 },
 "nbformat": 4,
 "nbformat_minor": 5
}
