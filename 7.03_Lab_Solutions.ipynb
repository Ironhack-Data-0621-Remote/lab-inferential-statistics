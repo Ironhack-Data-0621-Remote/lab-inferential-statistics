{
 "cells": [
  {
   "cell_type": "markdown",
   "id": "c07c168c-09fe-429c-b4bf-a4d56aa07d3b",
   "metadata": {},
   "source": [
    "# Lab | Inferential statistics\n",
    "\n",
    "### Instructions\n",
    "\n",
    "It is assumed that the mean systolic blood pressure is μ = 120 mm Hg. In the Honolulu Heart Study, a sample of n = 100 people had an average systolic blood pressure of 130.1 mm Hg with a standard deviation of 21.21 mm Hg. Is the group significantly different (with respect to systolic blood pressure!) from the regular population?\n",
    "\n",
    "- Set up the hypothesis test.\n",
    "- Write down all the steps followed for setting up the test.\n",
    "- Calculate the test statistic by hand and also code it in Python. It should be 4.76190. We will take a look at how to make decisions based on this calculated value."
   ]
  },
  {
   "cell_type": "markdown",
   "id": "59d04467-091e-4677-99ef-7a7751d49fa0",
   "metadata": {},
   "source": [
    "### 1 Interential Statistics Background\n",
    "\n",
    "Hypothesis testing is a form of inferential statistics that allows us to draw conclusions about an entire population based on a representative sample. When you estimate the properties of a population from a sample, the sample statistics are unlikely to equal the actual population value exactly. For instance, your sample mean is unlikely to equal the population mean. Differences that you observe in samples might be due to sample error rather than representing a true effect at the population level. The difference between the sample statistic and the population value is the sample error."
   ]
  },
  {
   "cell_type": "code",
   "execution_count": null,
   "id": "55a6eecf-65ff-42bd-9445-549c71507a75",
   "metadata": {},
   "outputs": [],
   "source": []
  },
  {
   "cell_type": "markdown",
   "id": "b4463a2f-8203-4b1b-b780-ba57305979ea",
   "metadata": {},
   "source": [
    "### 2 Test setup\n",
    "\n",
    "### 2.1. Test Hypothesis\n",
    "\n",
    "**H0 - Null hypothesis:**\n",
    "\n",
    "The sample error, i.e. the difference between the mean systolic blood pressure μ = 120 mm Hg and the average of 130.1 mm Hg observed in the Honolulu Heart Study doesn't represent a true statistically significant phenomenon. There is actually no difference between the experimental groups, so Δμ = 0.\n",
    "\n",
    "**HA - Alternative hypothesis:**\n",
    "\n",
    "The population mean is significantly different from the sample mean, Δμ != 0"
   ]
  },
  {
   "cell_type": "code",
   "execution_count": null,
   "id": "fcf68ab3-4cfa-4274-acc1-90d4afc6ef26",
   "metadata": {},
   "outputs": [],
   "source": []
  },
  {
   "cell_type": "markdown",
   "id": "cba458e3-22b7-483c-a0a7-0e7e68d4e061",
   "metadata": {},
   "source": [
    "### 2.2 Choose level of significance / critical value"
   ]
  },
  {
   "cell_type": "markdown",
   "id": "13f1c871-3e31-4d1a-a8e6-000f50baea3a",
   "metadata": {},
   "source": [
    "The confidence interval lets you determine with a certain probability, if it is possible to reject the null hypothesis or not. The most popular critical value is 0.05. It means that if you run the experiment 100 times, 5% of the time you can reject the null hypothesis and 95% of the times you can't.\n",
    "\n",
    "**critical value: alpha = 0.05**\n"
   ]
  },
  {
   "cell_type": "code",
   "execution_count": null,
   "id": "2fc81199-3052-4f4b-9e9e-7d71f2d26a72",
   "metadata": {},
   "outputs": [],
   "source": []
  },
  {
   "cell_type": "markdown",
   "id": "699fdec6-7270-4ec1-a77c-0021df05eff7",
   "metadata": {},
   "source": [
    "### 2.3. Assumtions about data distribution / Test selection\n",
    "\n",
    "Depending on the assumptions of your distributions, there are different types of statistical tests to confirm or reject the hypothesis.\n",
    "\n",
    "1. Paired or unpaired: The data of both groups don't come from the same participants.\n",
    "\n",
    "    **Conclusion: Unpaired**\n",
    "    \n",
    "2. Parametric or non-parametric: The data are distributed according to a distribution (normal distribution).\n",
    "\n",
    "    **Conclusion: Parametric**\n",
    "\n",
    "![alt text](https://github.com/KevinSpurk/lab-inferential-statistics/blob/master/files_for_lab/pics/t-tests-selection-tree.png \"T Test Selection Tree\")"
   ]
  },
  {
   "cell_type": "markdown",
   "id": "34243410-ff73-4d45-bdda-f6183aefb15f",
   "metadata": {},
   "source": [
    "**Conclusion: Performing One sample t-test** \n",
    "\n",
    "Welch t-test would be an alternative but standard deviation and sample size for the population are not avalible "
   ]
  },
  {
   "cell_type": "code",
   "execution_count": null,
   "id": "7efee7e4-2b72-41cc-bf24-df0ba8bb40e5",
   "metadata": {},
   "outputs": [],
   "source": []
  },
  {
   "cell_type": "markdown",
   "id": "8d2513d8-2855-4303-8cb8-0c07624f9d17",
   "metadata": {},
   "source": [
    "### 3. t-test\n",
    "\n",
    "The test will produce a **t value** to evaluate wheater to reject the null hypothesis or not. It will also produce a **p value**, which is the probability of obtaining the test statistic in question if the null hypothesis is true. This value is also interpreted when deciding whether or not to reject the null hypothesis - in particular, a small p value indicates that there is a low probability of obtaining the result if the null hypothesis is true. "
   ]
  },
  {
   "cell_type": "code",
   "execution_count": 1,
   "id": "1f7836d9-dabb-4e1d-a1ff-d2f026afe864",
   "metadata": {},
   "outputs": [],
   "source": [
    "import pandas as pd\n",
    "import numpy as np\n",
    "import scipy.stats as stats\n",
    "import statsmodels.stats\n",
    "import math"
   ]
  },
  {
   "cell_type": "markdown",
   "id": "65478899-3e79-49f7-b3ad-ca6b04e9d64d",
   "metadata": {},
   "source": [
    "### 3.1. Calculate t value"
   ]
  },
  {
   "cell_type": "code",
   "execution_count": 2,
   "id": "defcecca-c9a8-462b-949b-326277678fbe",
   "metadata": {},
   "outputs": [],
   "source": [
    "n_sample = 100\n",
    "mean_pop = 120\n",
    "mean_sample = 130.1\n",
    "stddev_sample = 21.21"
   ]
  },
  {
   "cell_type": "code",
   "execution_count": 3,
   "id": "03b0d18f-4a0d-4c9d-b045-d2006e32d99e",
   "metadata": {},
   "outputs": [
    {
     "data": {
      "text/plain": [
       "4.7619"
      ]
     },
     "execution_count": 3,
     "metadata": {},
     "output_type": "execute_result"
    }
   ],
   "source": [
    "t_stat = round((mean_sample - mean_pop)/(stddev_sample/math.sqrt(n_sample)), 4)\n",
    "t_stat"
   ]
  },
  {
   "cell_type": "code",
   "execution_count": null,
   "id": "a250c712-8a4a-43cf-8bfd-85e70a68ef4f",
   "metadata": {},
   "outputs": [],
   "source": []
  },
  {
   "cell_type": "markdown",
   "id": "65ada346-863e-4efe-873f-b49a4619e284",
   "metadata": {},
   "source": [
    "### 3.2. Compare t with critical t value\n",
    "\n",
    "To make a comarision, we can use the following python function or check a [t table](https://www.gradecalculator.tech/t-table/ \"t table\") Since the Ha is Δμ != 0, which includes Δμ < 0 and Δμ > 0, I use the values for a two tailed test.\n",
    "\n",
    "**Inputs:**\n",
    "\n",
    "- confidence level\n",
    "- degrees of freedom (number of independent observations in test sample - 1)"
   ]
  },
  {
   "cell_type": "code",
   "execution_count": 4,
   "id": "c2fdfe02-f070-49ba-bc10-a659d0abc900",
   "metadata": {},
   "outputs": [
    {
     "data": {
      "text/plain": [
       "1.9842169515086827"
      ]
     },
     "execution_count": 4,
     "metadata": {},
     "output_type": "execute_result"
    }
   ],
   "source": [
    "t_critical = stats.t.ppf(q=1-.05/2,df=n_sample-1)\n",
    "t_critical"
   ]
  },
  {
   "cell_type": "markdown",
   "id": "592c91be-4b72-48b4-aaf8-6ffeb4a3d2c7",
   "metadata": {},
   "source": [
    "**Conclusion:** t is bigger than the critical value, which implies that the difference between the means is statistically significant."
   ]
  },
  {
   "cell_type": "code",
   "execution_count": null,
   "id": "73884975-7a29-42be-8763-df10861fc6a8",
   "metadata": {},
   "outputs": [],
   "source": []
  },
  {
   "cell_type": "markdown",
   "id": "22db5ac3-2309-41db-9a48-ae711e1ddfd1",
   "metadata": {},
   "source": [
    "### 3.3 Compare p value with significance level"
   ]
  },
  {
   "cell_type": "code",
   "execution_count": 5,
   "id": "92ead0ac-f78d-4e1c-909e-b26674a4a578",
   "metadata": {},
   "outputs": [
    {
     "data": {
      "text/plain": [
       "6.562827764430223e-06"
      ]
     },
     "execution_count": 5,
     "metadata": {},
     "output_type": "execute_result"
    }
   ],
   "source": [
    "stats.t.sf(np.abs(t_stat), n_sample-1)*2"
   ]
  },
  {
   "cell_type": "markdown",
   "id": "d9cdd312-2d10-4e40-8e95-5ded3d88a5d5",
   "metadata": {},
   "source": [
    "**Conclusion:** the p value is very small and crucially below alpha = 0.05 This result supports the implication of the t statistic. Finally, **the null hypothesis should be rejected** on that basis, meaing that the difference between the means of systolic blood pressure observed in the sample vs. the population is statistically significant."
   ]
  },
  {
   "cell_type": "code",
   "execution_count": null,
   "id": "83ef8a68-58c2-4098-ab63-cb02e40647d7",
   "metadata": {},
   "outputs": [],
   "source": []
  },
  {
   "cell_type": "code",
   "execution_count": null,
   "id": "4ccc9462-7cd7-4b7e-ac23-c6201de05de0",
   "metadata": {},
   "outputs": [],
   "source": []
  },
  {
   "cell_type": "code",
   "execution_count": null,
   "id": "85eaf8b0-5320-4d82-bfaa-bd0c5c08dd5d",
   "metadata": {},
   "outputs": [],
   "source": []
  },
  {
   "cell_type": "code",
   "execution_count": null,
   "id": "dddeb1c2-3843-47a9-bfc4-bf7721e5d984",
   "metadata": {},
   "outputs": [],
   "source": []
  }
 ],
 "metadata": {
  "kernelspec": {
   "display_name": "Python3Brew",
   "language": "python",
   "name": "python3brew"
  },
  "language_info": {
   "codemirror_mode": {
    "name": "ipython",
    "version": 3
   },
   "file_extension": ".py",
   "mimetype": "text/x-python",
   "name": "python",
   "nbconvert_exporter": "python",
   "pygments_lexer": "ipython3",
   "version": "3.9.4"
  }
 },
 "nbformat": 4,
 "nbformat_minor": 5
}
