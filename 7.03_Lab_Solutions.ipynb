{
 "cells": [
  {
   "cell_type": "markdown",
   "id": "c07c168c-09fe-429c-b4bf-a4d56aa07d3b",
   "metadata": {},
   "source": [
    "# Lab | Inferential statistics\n",
    "\n",
    "### Instructions\n",
    "\n",
    "It is assumed that the mean systolic blood pressure is μ = 120 mm Hg. In the Honolulu Heart Study, a sample of n = 100 people had an average systolic blood pressure of 130.1 mm Hg with a standard deviation of 21.21 mm Hg. Is the group significantly different (with respect to systolic blood pressure!) from the regular population?\n",
    "\n",
    "- Set up the hypothesis test.\n",
    "- Write down all the steps followed for setting up the test.\n",
    "- Calculate the test statistic by hand and also code it in Python. It should be 4.76190. We will take a look at how to make decisions based on this calculated value."
   ]
  },
  {
   "cell_type": "markdown",
   "id": "59d04467-091e-4677-99ef-7a7751d49fa0",
   "metadata": {},
   "source": [
    "### 1 Interential Statistics Background\n",
    "\n",
    "Hypothesis testing is a form of inferential statistics that allows us to draw conclusions about an entire population based on a representative sample. When you estimate the properties of a population from a sample, the sample statistics are unlikely to equal the actual population value exactly. For instance, your sample mean is unlikely to equal the population mean. Differences that you observe in samples might be due to sample error rather than representing a true effect at the population level. The difference between the sample statistic and the population value is the sample error."
   ]
  },
  {
   "cell_type": "code",
   "execution_count": null,
   "id": "55a6eecf-65ff-42bd-9445-549c71507a75",
   "metadata": {},
   "outputs": [],
   "source": []
  },
  {
   "cell_type": "markdown",
   "id": "b4463a2f-8203-4b1b-b780-ba57305979ea",
   "metadata": {},
   "source": [
    "### 2 Test setup\n",
    "\n",
    "### 2.1. Test Hypothesis\n",
    "\n",
    "**H0 - Null hypothesis:**\n",
    "\n",
    "The sample error, i.e. the difference between the mean systolic blood pressure μ = 120 mm Hg and the average of 130.1 mm Hg observed in the Honolulu Heart Study doesn't represent a true statistically significant phenomenon. The is actually no difference between the experimental groups, so Δμ = 0.\n",
    "\n",
    "**HA - Alternative hypothesis:**\n",
    "\n",
    "The population mean is significantly different from the sample mean, Δμ != 0"
   ]
  },
  {
   "cell_type": "code",
   "execution_count": null,
   "id": "fcf68ab3-4cfa-4274-acc1-90d4afc6ef26",
   "metadata": {},
   "outputs": [],
   "source": []
  },
  {
   "cell_type": "markdown",
   "id": "cba458e3-22b7-483c-a0a7-0e7e68d4e061",
   "metadata": {},
   "source": [
    "### 2.2 Choose confidence interval / critical value"
   ]
  },
  {
   "cell_type": "markdown",
   "id": "13f1c871-3e31-4d1a-a8e6-000f50baea3a",
   "metadata": {},
   "source": [
    "The confidence interval lets you determine with a certain probability, if it is possible to reject the null hypothesis or not. The most popular critical value is 0.05. It means that if you run the experiment 100 times, 5% of the time you can reject the null hypothesis and 95% of the times you can't.\n",
    "\n",
    "**critical value: 0.05**\n"
   ]
  },
  {
   "cell_type": "code",
   "execution_count": null,
   "id": "2fc81199-3052-4f4b-9e9e-7d71f2d26a72",
   "metadata": {},
   "outputs": [],
   "source": []
  },
  {
   "cell_type": "markdown",
   "id": "b16003c1-7dd1-422d-afe8-35534a2dc36a",
   "metadata": {},
   "source": [
    "### 2.3. Assumtions about data distribution / Test selection\n",
    "\n",
    "Depending on the assumptions of your distributions, there are different types of statistical tests to confirm or reject the hypothesis.\n",
    "\n",
    "1. Paired or unpaired: The data of both groups don't come from the same participants.\n",
    "\n",
    "    **Conclusion: Unpaired**\n",
    "    \n",
    "2. Parametric or non-parametric: The data are distributed according to a distribution (normal distribution).\n",
    "\n",
    "    **Conclusion: Parametric**\n",
    "\n",
    "![alt text](https://github.com/KevinSpurk/lab-inferential-statistics/files_for_lab/pics/t-tests-selection-tree.png \"T Test Selection Tree\")\n"
   ]
  },
  {
   "cell_type": "code",
   "execution_count": 1,
   "id": "1f7836d9-dabb-4e1d-a1ff-d2f026afe864",
   "metadata": {},
   "outputs": [],
   "source": [
    "import pandas as pd\n",
    "import numpy as np\n",
    "import scipy.stats as stats\n",
    "import statsmodels.stats\n",
    "import math"
   ]
  },
  {
   "cell_type": "code",
   "execution_count": 3,
   "id": "defcecca-c9a8-462b-949b-326277678fbe",
   "metadata": {},
   "outputs": [],
   "source": [
    "n_sample = 100\n",
    "mean_pop = 120\n",
    "mean_sample = 130.1\n",
    "stddev = 21.21"
   ]
  },
  {
   "cell_type": "code",
   "execution_count": 11,
   "id": "cd3cde65-814d-4d53-a60f-35138a7308f3",
   "metadata": {},
   "outputs": [
    {
     "data": {
      "text/plain": [
       "125.94283999999999"
      ]
     },
     "execution_count": 11,
     "metadata": {},
     "output_type": "execute_result"
    }
   ],
   "source": [
    "confidence_95upper = avg_sample + (1.96 * (s/math.sqrt(n)))\n",
    "confidence_95lower = avg_sample - (1.96 * (s/math.sqrt(n)))\n",
    "confidence_95lower"
   ]
  },
  {
   "cell_type": "code",
   "execution_count": null,
   "id": "c2fdfe02-f070-49ba-bc10-a659d0abc900",
   "metadata": {},
   "outputs": [],
   "source": []
  },
  {
   "cell_type": "code",
   "execution_count": null,
   "id": "ae7d7992-906f-433d-8335-112b4f63802a",
   "metadata": {},
   "outputs": [],
   "source": []
  },
  {
   "cell_type": "code",
   "execution_count": null,
   "id": "73884975-7a29-42be-8763-df10861fc6a8",
   "metadata": {},
   "outputs": [],
   "source": []
  },
  {
   "cell_type": "code",
   "execution_count": null,
   "id": "93bb8c44-bca4-4235-984a-613d6d4cdfa4",
   "metadata": {},
   "outputs": [],
   "source": []
  },
  {
   "cell_type": "code",
   "execution_count": null,
   "id": "92ead0ac-f78d-4e1c-909e-b26674a4a578",
   "metadata": {},
   "outputs": [],
   "source": []
  },
  {
   "cell_type": "code",
   "execution_count": null,
   "id": "36a4090f-c7d4-4f77-948d-46fb5bfb2acb",
   "metadata": {},
   "outputs": [],
   "source": []
  },
  {
   "cell_type": "code",
   "execution_count": null,
   "id": "83ef8a68-58c2-4098-ab63-cb02e40647d7",
   "metadata": {},
   "outputs": [],
   "source": []
  },
  {
   "cell_type": "code",
   "execution_count": null,
   "id": "4ccc9462-7cd7-4b7e-ac23-c6201de05de0",
   "metadata": {},
   "outputs": [],
   "source": []
  },
  {
   "cell_type": "code",
   "execution_count": null,
   "id": "85eaf8b0-5320-4d82-bfaa-bd0c5c08dd5d",
   "metadata": {},
   "outputs": [],
   "source": []
  },
  {
   "cell_type": "code",
   "execution_count": null,
   "id": "dddeb1c2-3843-47a9-bfc4-bf7721e5d984",
   "metadata": {},
   "outputs": [],
   "source": []
  }
 ],
 "metadata": {
  "kernelspec": {
   "display_name": "Python3Brew",
   "language": "python",
   "name": "python3brew"
  },
  "language_info": {
   "codemirror_mode": {
    "name": "ipython",
    "version": 3
   },
   "file_extension": ".py",
   "mimetype": "text/x-python",
   "name": "python",
   "nbconvert_exporter": "python",
   "pygments_lexer": "ipython3",
   "version": "3.9.4"
  }
 },
 "nbformat": 4,
 "nbformat_minor": 5
}
